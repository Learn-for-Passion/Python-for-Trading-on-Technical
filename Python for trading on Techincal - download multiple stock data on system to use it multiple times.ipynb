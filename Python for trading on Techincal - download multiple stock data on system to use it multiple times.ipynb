{
 "cells": [
  {
   "cell_type": "code",
   "execution_count": 15,
   "metadata": {},
   "outputs": [],
   "source": [
    "import talib as ta\n",
    "import pandas as pd\n",
    "import matplotlib.pyplot as plt\n",
    "from datetime import datetime\n",
    "import numpy as np\n",
    "import yfinance as yf"
   ]
  },
  {
   "cell_type": "code",
   "execution_count": 55,
   "metadata": {},
   "outputs": [
    {
     "name": "stdout",
     "output_type": "stream",
     "text": [
      "[*********************100%***********************]  10 of 10 completed\n"
     ]
    }
   ],
   "source": [
    "Stock = ['RELIANCE.NS', 'HDFC.NS', 'SBIN.NS', 'LT.NS', 'ONGC.NS', 'BHEL.NS', 'TATAMOTORS.NS', 'ICICIBANK.NS', 'NESTLEIND.NS', 'INFY.NS']\n",
    "data = yf.download(Stock, start=\"2010-01-01\", end=\"2021-02-28\")"
   ]
  },
  {
   "cell_type": "code",
   "execution_count": 56,
   "metadata": {},
   "outputs": [],
   "source": [
    "close = data['Close']\n",
    "Volume = data['Volume']\n",
    "data.to_csv(\"Daily_Master\", index=True, encoding='utf8')\n",
    "close.to_csv(\"Daily_Close\", index=True, encoding='utf8')\n",
    "Volume.to_csv(\"Daily_Volume\", index=True, encoding='utf8')\n"
   ]
  },
  {
   "cell_type": "code",
   "execution_count": 22,
   "metadata": {},
   "outputs": [
    {
     "name": "stdout",
     "output_type": "stream",
     "text": [
      "         Date     BHEL.NS     HDFC.NS  ICICIBANK.NS     INFY.NS       LT.NS  \\\n",
      "0  2010-01-04  323.480011  534.869995    159.945450  326.575012  751.733337   \n",
      "1  2010-01-05  324.720001  536.690002    161.463638  327.668762  753.066650   \n",
      "2  2010-01-06  323.500000  539.270020    162.699997  322.887512  744.733337   \n",
      "3  2010-01-07  321.266663  529.229980    161.163635  315.631256  741.155579   \n",
      "4  2010-01-08  323.213318  520.010010    158.899994  308.024994  745.844421   \n",
      "\n",
      "   NESTLEIND.NS     ONGC.NS  RELIANCE.NS     SBIN.NS  TATAMOTORS.NS  \n",
      "0    527.049988  197.908340   532.700500  229.119995     163.535919  \n",
      "1    527.049988  201.375000   530.323059  229.205002     160.686478  \n",
      "2    527.049988  203.916672   538.891846  230.580002     160.933823  \n",
      "3    527.049988  204.133331   547.832092  229.289993     155.432831  \n",
      "4   2494.649902  202.616669   546.395691  228.604996     156.283707  \n"
     ]
    }
   ],
   "source": [
    "Daily_Close = pd.read_csv('Daily_Close')\n",
    "print (Daily_Close.head())"
   ]
  }
 ],
 "metadata": {
  "kernelspec": {
   "display_name": "Python 3",
   "language": "python",
   "name": "python3"
  },
  "language_info": {
   "codemirror_mode": {
    "name": "ipython",
    "version": 3
   },
   "file_extension": ".py",
   "mimetype": "text/x-python",
   "name": "python",
   "nbconvert_exporter": "python",
   "pygments_lexer": "ipython3",
   "version": "3.8.5"
  }
 },
 "nbformat": 4,
 "nbformat_minor": 4
}
