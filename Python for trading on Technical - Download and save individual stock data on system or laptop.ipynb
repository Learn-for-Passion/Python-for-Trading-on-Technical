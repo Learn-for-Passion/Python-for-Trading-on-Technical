{
 "cells": [
  {
   "cell_type": "code",
   "execution_count": 3,
   "metadata": {},
   "outputs": [],
   "source": [
    "import talib as ta\n",
    "import pandas as pd\n",
    "import matplotlib.pyplot as plt\n",
    "from datetime import datetime\n",
    "import numpy as np\n",
    "import yfinance as yf"
   ]
  },
  {
   "cell_type": "code",
   "execution_count": 5,
   "metadata": {},
   "outputs": [
    {
     "name": "stdout",
     "output_type": "stream",
     "text": [
      "[*********************100%***********************]  1 of 1 completed\n"
     ]
    },
    {
     "data": {
      "text/html": [
       "<div>\n",
       "<style scoped>\n",
       "    .dataframe tbody tr th:only-of-type {\n",
       "        vertical-align: middle;\n",
       "    }\n",
       "\n",
       "    .dataframe tbody tr th {\n",
       "        vertical-align: top;\n",
       "    }\n",
       "\n",
       "    .dataframe thead th {\n",
       "        text-align: right;\n",
       "    }\n",
       "</style>\n",
       "<table border=\"1\" class=\"dataframe\">\n",
       "  <thead>\n",
       "    <tr style=\"text-align: right;\">\n",
       "      <th></th>\n",
       "      <th>Open</th>\n",
       "      <th>High</th>\n",
       "      <th>Low</th>\n",
       "      <th>Close</th>\n",
       "      <th>Adj Close</th>\n",
       "      <th>Volume</th>\n",
       "    </tr>\n",
       "    <tr>\n",
       "      <th>Date</th>\n",
       "      <th></th>\n",
       "      <th></th>\n",
       "      <th></th>\n",
       "      <th></th>\n",
       "      <th></th>\n",
       "      <th></th>\n",
       "    </tr>\n",
       "  </thead>\n",
       "  <tbody>\n",
       "    <tr>\n",
       "      <th>2018-01-01</th>\n",
       "      <td>518.849976</td>\n",
       "      <td>522.250000</td>\n",
       "      <td>515.000000</td>\n",
       "      <td>516.775024</td>\n",
       "      <td>474.472595</td>\n",
       "      <td>5431340</td>\n",
       "    </tr>\n",
       "    <tr>\n",
       "      <th>2018-01-02</th>\n",
       "      <td>518.625000</td>\n",
       "      <td>521.000000</td>\n",
       "      <td>511.500000</td>\n",
       "      <td>514.849976</td>\n",
       "      <td>472.705139</td>\n",
       "      <td>6112248</td>\n",
       "    </tr>\n",
       "    <tr>\n",
       "      <th>2018-01-03</th>\n",
       "      <td>514.250000</td>\n",
       "      <td>515.799988</td>\n",
       "      <td>509.299988</td>\n",
       "      <td>510.649994</td>\n",
       "      <td>468.848938</td>\n",
       "      <td>6846552</td>\n",
       "    </tr>\n",
       "    <tr>\n",
       "      <th>2018-01-04</th>\n",
       "      <td>510.500000</td>\n",
       "      <td>510.500000</td>\n",
       "      <td>504.799988</td>\n",
       "      <td>507.700012</td>\n",
       "      <td>466.140472</td>\n",
       "      <td>8947614</td>\n",
       "    </tr>\n",
       "    <tr>\n",
       "      <th>2018-01-05</th>\n",
       "      <td>507.649994</td>\n",
       "      <td>513.200012</td>\n",
       "      <td>503.000000</td>\n",
       "      <td>506.000000</td>\n",
       "      <td>464.579559</td>\n",
       "      <td>11025976</td>\n",
       "    </tr>\n",
       "  </tbody>\n",
       "</table>\n",
       "</div>"
      ],
      "text/plain": [
       "                  Open        High         Low       Close   Adj Close  \\\n",
       "Date                                                                     \n",
       "2018-01-01  518.849976  522.250000  515.000000  516.775024  474.472595   \n",
       "2018-01-02  518.625000  521.000000  511.500000  514.849976  472.705139   \n",
       "2018-01-03  514.250000  515.799988  509.299988  510.649994  468.848938   \n",
       "2018-01-04  510.500000  510.500000  504.799988  507.700012  466.140472   \n",
       "2018-01-05  507.649994  513.200012  503.000000  506.000000  464.579559   \n",
       "\n",
       "              Volume  \n",
       "Date                  \n",
       "2018-01-01   5431340  \n",
       "2018-01-02   6112248  \n",
       "2018-01-03   6846552  \n",
       "2018-01-04   8947614  \n",
       "2018-01-05  11025976  "
      ]
     },
     "execution_count": 5,
     "metadata": {},
     "output_type": "execute_result"
    }
   ],
   "source": [
    "# Fetch historical data  \n",
    "data = yf.download('INFY.NS', start=\"2018-01-01\", end=\"2020-12-31\")\n",
    "\n",
    "# Download file ‘data’ in csv format to reuse infosys data   \n",
    "data.to_csv(\"Infy-His-data2018-20.csv\", index=True, encoding='utf8')\n",
    "\n",
    "data.head()"
   ]
  }
 ],
 "metadata": {
  "kernelspec": {
   "display_name": "Python 3",
   "language": "python",
   "name": "python3"
  },
  "language_info": {
   "codemirror_mode": {
    "name": "ipython",
    "version": 3
   },
   "file_extension": ".py",
   "mimetype": "text/x-python",
   "name": "python",
   "nbconvert_exporter": "python",
   "pygments_lexer": "ipython3",
   "version": "3.8.5"
  }
 },
 "nbformat": 4,
 "nbformat_minor": 4
}
